{
  "nbformat": 4,
  "nbformat_minor": 0,
  "metadata": {
    "colab": {
      "provenance": [],
      "gpuType": "T4"
    },
    "kernelspec": {
      "name": "python3",
      "display_name": "Python 3"
    },
    "language_info": {
      "name": "python"
    },
    "accelerator": "GPU"
  },
  "cells": [
    {
      "cell_type": "code",
      "source": [
        "!pip install numpy opencv-python matplotlib torch torchvision scipy tqdm ultralytics"
      ],
      "metadata": {
        "colab": {
          "base_uri": "https://localhost:8080/"
        },
        "id": "sTHJrAaM9r3q",
        "outputId": "e40358ae-2e68-4949-e13a-4a1e6ff5299f"
      },
      "execution_count": null,
      "outputs": [
        {
          "output_type": "stream",
          "name": "stdout",
          "text": [
            "Requirement already satisfied: numpy in /usr/local/lib/python3.11/dist-packages (1.26.4)\n",
            "Requirement already satisfied: opencv-python in /usr/local/lib/python3.11/dist-packages (4.10.0.84)\n",
            "Requirement already satisfied: matplotlib in /usr/local/lib/python3.11/dist-packages (3.10.0)\n",
            "Requirement already satisfied: torch in /usr/local/lib/python3.11/dist-packages (2.5.1+cu121)\n",
            "Requirement already satisfied: torchvision in /usr/local/lib/python3.11/dist-packages (0.20.1+cu121)\n",
            "Requirement already satisfied: scipy in /usr/local/lib/python3.11/dist-packages (1.13.1)\n",
            "Requirement already satisfied: tqdm in /usr/local/lib/python3.11/dist-packages (4.67.1)\n",
            "Collecting ultralytics\n",
            "  Downloading ultralytics-8.3.65-py3-none-any.whl.metadata (35 kB)\n",
            "Requirement already satisfied: contourpy>=1.0.1 in /usr/local/lib/python3.11/dist-packages (from matplotlib) (1.3.1)\n",
            "Requirement already satisfied: cycler>=0.10 in /usr/local/lib/python3.11/dist-packages (from matplotlib) (0.12.1)\n",
            "Requirement already satisfied: fonttools>=4.22.0 in /usr/local/lib/python3.11/dist-packages (from matplotlib) (4.55.3)\n",
            "Requirement already satisfied: kiwisolver>=1.3.1 in /usr/local/lib/python3.11/dist-packages (from matplotlib) (1.4.8)\n",
            "Requirement already satisfied: packaging>=20.0 in /usr/local/lib/python3.11/dist-packages (from matplotlib) (24.2)\n",
            "Requirement already satisfied: pillow>=8 in /usr/local/lib/python3.11/dist-packages (from matplotlib) (11.1.0)\n",
            "Requirement already satisfied: pyparsing>=2.3.1 in /usr/local/lib/python3.11/dist-packages (from matplotlib) (3.2.1)\n",
            "Requirement already satisfied: python-dateutil>=2.7 in /usr/local/lib/python3.11/dist-packages (from matplotlib) (2.8.2)\n",
            "Requirement already satisfied: filelock in /usr/local/lib/python3.11/dist-packages (from torch) (3.16.1)\n",
            "Requirement already satisfied: typing-extensions>=4.8.0 in /usr/local/lib/python3.11/dist-packages (from torch) (4.12.2)\n",
            "Requirement already satisfied: networkx in /usr/local/lib/python3.11/dist-packages (from torch) (3.4.2)\n",
            "Requirement already satisfied: jinja2 in /usr/local/lib/python3.11/dist-packages (from torch) (3.1.5)\n",
            "Requirement already satisfied: fsspec in /usr/local/lib/python3.11/dist-packages (from torch) (2024.10.0)\n",
            "Requirement already satisfied: nvidia-cuda-nvrtc-cu12==12.1.105 in /usr/local/lib/python3.11/dist-packages (from torch) (12.1.105)\n",
            "Requirement already satisfied: nvidia-cuda-runtime-cu12==12.1.105 in /usr/local/lib/python3.11/dist-packages (from torch) (12.1.105)\n",
            "Requirement already satisfied: nvidia-cuda-cupti-cu12==12.1.105 in /usr/local/lib/python3.11/dist-packages (from torch) (12.1.105)\n",
            "Requirement already satisfied: nvidia-cudnn-cu12==9.1.0.70 in /usr/local/lib/python3.11/dist-packages (from torch) (9.1.0.70)\n",
            "Requirement already satisfied: nvidia-cublas-cu12==12.1.3.1 in /usr/local/lib/python3.11/dist-packages (from torch) (12.1.3.1)\n",
            "Requirement already satisfied: nvidia-cufft-cu12==11.0.2.54 in /usr/local/lib/python3.11/dist-packages (from torch) (11.0.2.54)\n",
            "Requirement already satisfied: nvidia-curand-cu12==10.3.2.106 in /usr/local/lib/python3.11/dist-packages (from torch) (10.3.2.106)\n",
            "Requirement already satisfied: nvidia-cusolver-cu12==11.4.5.107 in /usr/local/lib/python3.11/dist-packages (from torch) (11.4.5.107)\n",
            "Requirement already satisfied: nvidia-cusparse-cu12==12.1.0.106 in /usr/local/lib/python3.11/dist-packages (from torch) (12.1.0.106)\n",
            "Requirement already satisfied: nvidia-nccl-cu12==2.21.5 in /usr/local/lib/python3.11/dist-packages (from torch) (2.21.5)\n",
            "Requirement already satisfied: nvidia-nvtx-cu12==12.1.105 in /usr/local/lib/python3.11/dist-packages (from torch) (12.1.105)\n",
            "Requirement already satisfied: triton==3.1.0 in /usr/local/lib/python3.11/dist-packages (from torch) (3.1.0)\n",
            "Requirement already satisfied: sympy==1.13.1 in /usr/local/lib/python3.11/dist-packages (from torch) (1.13.1)\n",
            "Requirement already satisfied: nvidia-nvjitlink-cu12 in /usr/local/lib/python3.11/dist-packages (from nvidia-cusolver-cu12==11.4.5.107->torch) (12.6.85)\n",
            "Requirement already satisfied: mpmath<1.4,>=1.1.0 in /usr/local/lib/python3.11/dist-packages (from sympy==1.13.1->torch) (1.3.0)\n",
            "Requirement already satisfied: pyyaml>=5.3.1 in /usr/local/lib/python3.11/dist-packages (from ultralytics) (6.0.2)\n",
            "Requirement already satisfied: requests>=2.23.0 in /usr/local/lib/python3.11/dist-packages (from ultralytics) (2.32.3)\n",
            "Requirement already satisfied: psutil in /usr/local/lib/python3.11/dist-packages (from ultralytics) (5.9.5)\n",
            "Requirement already satisfied: py-cpuinfo in /usr/local/lib/python3.11/dist-packages (from ultralytics) (9.0.0)\n",
            "Requirement already satisfied: pandas>=1.1.4 in /usr/local/lib/python3.11/dist-packages (from ultralytics) (2.2.2)\n",
            "Requirement already satisfied: seaborn>=0.11.0 in /usr/local/lib/python3.11/dist-packages (from ultralytics) (0.13.2)\n",
            "Collecting ultralytics-thop>=2.0.0 (from ultralytics)\n",
            "  Downloading ultralytics_thop-2.0.14-py3-none-any.whl.metadata (9.4 kB)\n",
            "Requirement already satisfied: pytz>=2020.1 in /usr/local/lib/python3.11/dist-packages (from pandas>=1.1.4->ultralytics) (2024.2)\n",
            "Requirement already satisfied: tzdata>=2022.7 in /usr/local/lib/python3.11/dist-packages (from pandas>=1.1.4->ultralytics) (2024.2)\n",
            "Requirement already satisfied: six>=1.5 in /usr/local/lib/python3.11/dist-packages (from python-dateutil>=2.7->matplotlib) (1.17.0)\n",
            "Requirement already satisfied: charset-normalizer<4,>=2 in /usr/local/lib/python3.11/dist-packages (from requests>=2.23.0->ultralytics) (3.4.1)\n",
            "Requirement already satisfied: idna<4,>=2.5 in /usr/local/lib/python3.11/dist-packages (from requests>=2.23.0->ultralytics) (3.10)\n",
            "Requirement already satisfied: urllib3<3,>=1.21.1 in /usr/local/lib/python3.11/dist-packages (from requests>=2.23.0->ultralytics) (2.3.0)\n",
            "Requirement already satisfied: certifi>=2017.4.17 in /usr/local/lib/python3.11/dist-packages (from requests>=2.23.0->ultralytics) (2024.12.14)\n",
            "Requirement already satisfied: MarkupSafe>=2.0 in /usr/local/lib/python3.11/dist-packages (from jinja2->torch) (3.0.2)\n",
            "Downloading ultralytics-8.3.65-py3-none-any.whl (911 kB)\n",
            "\u001b[2K   \u001b[90m━━━━━━━━━━━━━━━━━━━━━━━━━━━━━━━━━━━━━━━━\u001b[0m \u001b[32m911.6/911.6 kB\u001b[0m \u001b[31m23.3 MB/s\u001b[0m eta \u001b[36m0:00:00\u001b[0m\n",
            "\u001b[?25hDownloading ultralytics_thop-2.0.14-py3-none-any.whl (26 kB)\n",
            "Installing collected packages: ultralytics-thop, ultralytics\n",
            "Successfully installed ultralytics-8.3.65 ultralytics-thop-2.0.14\n"
          ]
        }
      ]
    },
    {
      "cell_type": "code",
      "source": [
        "!pip install catboost\n",
        "!pip install scenedetect\n",
        "!pip install streamlit -q\n",
        "!pip install pyngrok\n",
        "!pip -q install openai"
      ],
      "metadata": {
        "colab": {
          "base_uri": "https://localhost:8080/"
        },
        "id": "aB8ssKI19uZK",
        "outputId": "467183dd-46c3-4d60-d421-9e1cbbc36c60"
      },
      "execution_count": null,
      "outputs": [
        {
          "output_type": "stream",
          "name": "stdout",
          "text": [
            "Collecting catboost\n",
            "  Downloading catboost-1.2.7-cp311-cp311-manylinux2014_x86_64.whl.metadata (1.2 kB)\n",
            "Requirement already satisfied: graphviz in /usr/local/lib/python3.11/dist-packages (from catboost) (0.20.3)\n",
            "Requirement already satisfied: matplotlib in /usr/local/lib/python3.11/dist-packages (from catboost) (3.10.0)\n",
            "Requirement already satisfied: numpy<2.0,>=1.16.0 in /usr/local/lib/python3.11/dist-packages (from catboost) (1.26.4)\n",
            "Requirement already satisfied: pandas>=0.24 in /usr/local/lib/python3.11/dist-packages (from catboost) (2.2.2)\n",
            "Requirement already satisfied: scipy in /usr/local/lib/python3.11/dist-packages (from catboost) (1.13.1)\n",
            "Requirement already satisfied: plotly in /usr/local/lib/python3.11/dist-packages (from catboost) (5.24.1)\n",
            "Requirement already satisfied: six in /usr/local/lib/python3.11/dist-packages (from catboost) (1.17.0)\n",
            "Requirement already satisfied: python-dateutil>=2.8.2 in /usr/local/lib/python3.11/dist-packages (from pandas>=0.24->catboost) (2.8.2)\n",
            "Requirement already satisfied: pytz>=2020.1 in /usr/local/lib/python3.11/dist-packages (from pandas>=0.24->catboost) (2024.2)\n",
            "Requirement already satisfied: tzdata>=2022.7 in /usr/local/lib/python3.11/dist-packages (from pandas>=0.24->catboost) (2024.2)\n",
            "Requirement already satisfied: contourpy>=1.0.1 in /usr/local/lib/python3.11/dist-packages (from matplotlib->catboost) (1.3.1)\n",
            "Requirement already satisfied: cycler>=0.10 in /usr/local/lib/python3.11/dist-packages (from matplotlib->catboost) (0.12.1)\n",
            "Requirement already satisfied: fonttools>=4.22.0 in /usr/local/lib/python3.11/dist-packages (from matplotlib->catboost) (4.55.3)\n",
            "Requirement already satisfied: kiwisolver>=1.3.1 in /usr/local/lib/python3.11/dist-packages (from matplotlib->catboost) (1.4.8)\n",
            "Requirement already satisfied: packaging>=20.0 in /usr/local/lib/python3.11/dist-packages (from matplotlib->catboost) (24.2)\n",
            "Requirement already satisfied: pillow>=8 in /usr/local/lib/python3.11/dist-packages (from matplotlib->catboost) (11.1.0)\n",
            "Requirement already satisfied: pyparsing>=2.3.1 in /usr/local/lib/python3.11/dist-packages (from matplotlib->catboost) (3.2.1)\n",
            "Requirement already satisfied: tenacity>=6.2.0 in /usr/local/lib/python3.11/dist-packages (from plotly->catboost) (9.0.0)\n",
            "Downloading catboost-1.2.7-cp311-cp311-manylinux2014_x86_64.whl (98.7 MB)\n",
            "\u001b[2K   \u001b[90m━━━━━━━━━━━━━━━━━━━━━━━━━━━━━━━━━━━━━━━━\u001b[0m \u001b[32m98.7/98.7 MB\u001b[0m \u001b[31m9.0 MB/s\u001b[0m eta \u001b[36m0:00:00\u001b[0m\n",
            "\u001b[?25hInstalling collected packages: catboost\n",
            "Successfully installed catboost-1.2.7\n",
            "Collecting scenedetect\n",
            "  Downloading scenedetect-0.6.5.2-py3-none-any.whl.metadata (4.0 kB)\n",
            "Requirement already satisfied: Click in /usr/local/lib/python3.11/dist-packages (from scenedetect) (8.1.8)\n",
            "Requirement already satisfied: numpy in /usr/local/lib/python3.11/dist-packages (from scenedetect) (1.26.4)\n",
            "Requirement already satisfied: platformdirs in /usr/local/lib/python3.11/dist-packages (from scenedetect) (4.3.6)\n",
            "Requirement already satisfied: tqdm in /usr/local/lib/python3.11/dist-packages (from scenedetect) (4.67.1)\n",
            "Downloading scenedetect-0.6.5.2-py3-none-any.whl (127 kB)\n",
            "\u001b[2K   \u001b[90m━━━━━━━━━━━━━━━━━━━━━━━━━━━━━━━━━━━━━━━━\u001b[0m \u001b[32m127.3/127.3 kB\u001b[0m \u001b[31m4.2 MB/s\u001b[0m eta \u001b[36m0:00:00\u001b[0m\n",
            "\u001b[?25hInstalling collected packages: scenedetect\n",
            "Successfully installed scenedetect-0.6.5.2\n",
            "\u001b[2K     \u001b[90m━━━━━━━━━━━━━━━━━━━━━━━━━━━━━━━━━━━━━━━━\u001b[0m \u001b[32m44.3/44.3 kB\u001b[0m \u001b[31m2.4 MB/s\u001b[0m eta \u001b[36m0:00:00\u001b[0m\n",
            "\u001b[2K   \u001b[90m━━━━━━━━━━━━━━━━━━━━━━━━━━━━━━━━━━━━━━━━\u001b[0m \u001b[32m9.1/9.1 MB\u001b[0m \u001b[31m78.5 MB/s\u001b[0m eta \u001b[36m0:00:00\u001b[0m\n",
            "\u001b[2K   \u001b[90m━━━━━━━━━━━━━━━━━━━━━━━━━━━━━━━━━━━━━━━━\u001b[0m \u001b[32m6.9/6.9 MB\u001b[0m \u001b[31m22.4 MB/s\u001b[0m eta \u001b[36m0:00:00\u001b[0m\n",
            "\u001b[2K   \u001b[90m━━━━━━━━━━━━━━━━━━━━━━━━━━━━━━━━━━━━━━━━\u001b[0m \u001b[32m79.1/79.1 kB\u001b[0m \u001b[31m6.9 MB/s\u001b[0m eta \u001b[36m0:00:00\u001b[0m\n",
            "\u001b[?25hCollecting pyngrok\n",
            "  Downloading pyngrok-7.2.3-py3-none-any.whl.metadata (8.7 kB)\n",
            "Requirement already satisfied: PyYAML>=5.1 in /usr/local/lib/python3.11/dist-packages (from pyngrok) (6.0.2)\n",
            "Downloading pyngrok-7.2.3-py3-none-any.whl (23 kB)\n",
            "Installing collected packages: pyngrok\n",
            "Successfully installed pyngrok-7.2.3\n"
          ]
        }
      ]
    },
    {
      "cell_type": "code",
      "source": [
        "# ngrok API 키\n",
        "ngrok.set_auth_token('')\n",
        "\n",
        "# OpenAI API 키를 하드코딩하여 설정\n",
        "api_key = \"\"  # 여기에 API 키를 입력하세요\n",
        "\n",
        "# API 키를 환경 변수에 저장\n",
        "os.environ['OPENAI_API_KEY'] = api_key\n",
        "\n",
        "# 확인 메시지 출력\n",
        "print(\"API 키가 환경 변수에 성공적으로 설정되었습니다.\")\n"
      ],
      "metadata": {
        "colab": {
          "base_uri": "https://localhost:8080/"
        },
        "id": "kREHQRxcAWTZ",
        "outputId": "55dc3b28-8996-44ca-9118-2ee3b2bf1d5e"
      },
      "execution_count": null,
      "outputs": [
        {
          "output_type": "stream",
          "name": "stdout",
          "text": [
            "API 키가 환경 변수에 성공적으로 설정되었습니다.\n"
          ]
        }
      ]
    },
    {
      "cell_type": "code",
      "source": [
        "%%writefile app.py\n",
        "\n",
        "import os\n",
        "import sys\n",
        "import cv2\n",
        "import subprocess\n",
        "import numpy as np\n",
        "import streamlit as st\n",
        "from pyngrok import ngrok\n",
        "from PIL import Image, ImageOps\n",
        "\n",
        "# 모델 실행 함수 -----------------------------------------\n",
        "def process_video(input_video_path, output_video_path, ball_model, court_model, bounce_model):\n",
        "    \"\"\"\n",
        "    동영상을 처리하는 함수.\n",
        "\n",
        "    매개변수:\n",
        "        input_video_path (str): 입력 동영상 파일 경로\n",
        "        output_video_path (str): 처리된 동영상 출력 경로\n",
        "        ball_model (str): 공 추적 모델 경로\n",
        "        court_model (str): 코트 검출 모델 경로\n",
        "        bounce_model (str): 바운스 검출 모델 경로\n",
        "    \"\"\"\n",
        "    command = [\n",
        "        \"python\", \"/content/TennisProject/main.py\",\n",
        "        \"--path_ball_track_model\", \"/content/ball_model.pt\",\n",
        "        \"--path_court_model\", \"/content/court_detection.pt\",\n",
        "        \"--path_bounce_model\", \"/content/bounce_detection.cbm\",\n",
        "        \"--path_input_video\", input_video_path,\n",
        "        \"--path_output_video\", \"/content/tennis_detection.mp4\"\n",
        "    ]\n",
        "\n",
        "    # subprocess.run으로 외부 명령어 실행\n",
        "    result = subprocess.run(\n",
        "        command, stdout=subprocess.PIPE, stderr=subprocess.PIPE, text=True\n",
        "    )\n",
        "\n",
        "    if result.returncode != 0:\n",
        "        # 실행 실패 시 에러 메시지 반환\n",
        "        return False, result.stderr\n",
        "    else:\n",
        "        # 실행 성공 시 성공 메시지 반환\n",
        "        return True, result.stdout\n",
        "# -----------------------------------------\n",
        "# 프레임 별 이미지 자르는 함수 -----------------------------------------\n",
        "def extract_frames_from_video(video_path, output_folder='/content/image', frame_rate=1):\n",
        "    \"\"\"\n",
        "    동영상에서 일정 간격으로 프레임을 추출하여 저장하는 함수\n",
        "\n",
        "    매개변수:\n",
        "        video_path (str): 동영상 파일 경로\n",
        "        output_folder (str): 추출된 프레임을 저장할 폴더 경로 (기본값: '/content/image')\n",
        "        frame_rate (int): 초당 추출할 프레임 수 (기본값: 1초당 1프레임)\n",
        "    \"\"\"\n",
        "    # 동영상 파일 로드\n",
        "    cap = cv2.VideoCapture(video_path)\n",
        "\n",
        "    # 동영상 파일이 열렸는지 확인\n",
        "    if not cap.isOpened():\n",
        "        print(\"오류: 동영상을 열 수 없습니다.\")\n",
        "        return\n",
        "\n",
        "    # 저장할 폴더가 없으면 생성\n",
        "    if not os.path.exists(output_folder):\n",
        "        os.makedirs(output_folder)\n",
        "        print(f\"폴더 생성됨: {output_folder}\")\n",
        "\n",
        "    # 동영상의 FPS(초당 프레임 수) 가져오기\n",
        "    fps = cap.get(cv2.CAP_PROP_FPS)  # FPS: Frames Per Second\n",
        "    frame_interval = int(fps / frame_rate)  # 추출할 프레임 간격 계산\n",
        "\n",
        "    frame_count = 0  # 현재 프레임 번호\n",
        "    saved_frame_count = 0  # 저장된 프레임 수\n",
        "\n",
        "    while True:\n",
        "        # 동영상에서 다음 프레임 읽기\n",
        "        ret, frame = cap.read()\n",
        "\n",
        "        # 더 이상 프레임이 없으면 반복 종료\n",
        "        if not ret:\n",
        "            break\n",
        "\n",
        "        # 지정된 간격에 해당하는 프레임만 저장\n",
        "        if frame_count % frame_interval == 0:\n",
        "            frame_filename = os.path.join(output_folder, f'image{saved_frame_count:04d}.jpg')  # 파일 이름 생성\n",
        "            cv2.imwrite(frame_filename, frame)  # 프레임 저장\n",
        "            print(f\"저장됨: {frame_filename}\")  # 저장 완료 메시지 출력\n",
        "            saved_frame_count += 1  # 저장된 프레임 수 증가\n",
        "\n",
        "        # 현재 프레임 번호 증가\n",
        "        frame_count += 1\n",
        "\n",
        "    # 동영상 파일 닫기\n",
        "    cap.release()\n",
        "    # 모든 OpenCV 창 닫기\n",
        "    cv2.destroyAllWindows()\n",
        "# -----------------------------------------\n",
        "\n",
        "st.title(\"테니스 영상 해설\")\n",
        "file = st.file_uploader(\"영상을 업로드하세요.\", type=['mp4', 'avi', 'mov'])\n",
        "\n",
        "if file is None:\n",
        "    st.text(\"동영상을 먼저 업로드해주세요.\")\n",
        "else:\n",
        "    # 동영상 저장 경로\n",
        "    input_video_path = \"/content/tennis.mp4\"\n",
        "    with open(input_video_path, \"wb\") as f:\n",
        "        f.write(file.read())\n",
        "    st.success(\"동영상이 성공적으로 업로드되었습니다!\")\n",
        "\n",
        "    # 명령어 실행\n",
        "    st.text(\"동영상을 처리 중입니다...\")\n",
        "    input_video_path = \"/content/tennis.mp4\"\n",
        "    output_video_path = \"/content/tennis_detection.mp4\"\n",
        "    ball_model_path = \"/content/ball_model.pt\"\n",
        "    court_model_path = \"/content/court_detection.pt\"\n",
        "    bounce_model_path = \"/content/bounce_detection.cbm\"\n",
        "\n",
        "    # 동영상 처리 함수 호출\n",
        "    success, message = process_video(\n",
        "        input_video_path=input_video_path,\n",
        "        output_video_path=output_video_path,\n",
        "        ball_model=ball_model_path,\n",
        "        court_model=court_model_path,\n",
        "        bounce_model=bounce_model_path\n",
        "    )\n",
        "\n",
        "    if success:\n",
        "        st.success(\"동영상 처리가 완료되었습니다!\")\n",
        "        st.text(message)\n",
        "    else:\n",
        "        st.error(f\"오류: 동영상 처리 중 문제가 발생했습니다.\\n{message}\")\n",
        "\n",
        "    # 동영상 파일 경로 설정\n",
        "    video_path = '/content/tennis_detection.mp4'  # 처리된 동영상 경로\n",
        "    output_folder = 'image'  # 저장할 폴더 이름\n",
        "\n",
        "    # 프레임 별 이미지 함수 호출\n",
        "    extract_frames_from_video(video_path, output_folder, frame_rate=1)\n",
        "\n",
        "    # 추출된 첫 번째 프레임 경로\n",
        "    first_frame_path = os.path.join(output_folder, '/content/image/image0000.jpg')\n",
        "\n",
        "    if os.path.exists(first_frame_path):\n",
        "        # 첫 번째 프레임을 열어서 화면에 표시\n",
        "        st.text(\"동영상 처리가 완료되었습니다!\")\n",
        "        image = Image.open(first_frame_path)\n",
        "        st.image(image, use_container_width=True)\n",
        "    else:\n",
        "        # 프레임 파일이 없을 때 에러 메시지 출력\n",
        "        st.error(\"첫 번째 프레임이 존재하지 않습니다. 프레임 추출 과정을 확인하세요.\")"
      ],
      "metadata": {
        "colab": {
          "base_uri": "https://localhost:8080/"
        },
        "id": "MnsAd5ck6p7j",
        "outputId": "7967fafb-a4ad-44cc-c6d7-c969fa95428f"
      },
      "execution_count": null,
      "outputs": [
        {
          "output_type": "stream",
          "name": "stdout",
          "text": [
            "Writing app.py\n"
          ]
        }
      ]
    },
    {
      "cell_type": "code",
      "source": [
        "!ls"
      ],
      "metadata": {
        "colab": {
          "base_uri": "https://localhost:8080/"
        },
        "id": "LxIXw9tC7euc",
        "outputId": "34edacfb-c786-4a9e-9257-0d991ff89406"
      },
      "execution_count": null,
      "outputs": [
        {
          "output_type": "stream",
          "name": "stdout",
          "text": [
            "app.py\tball_model.pt  bounce_detection.cbm  court_detection.pt  sample_data\n"
          ]
        }
      ]
    },
    {
      "cell_type": "code",
      "source": [
        "!nohup streamlit run app.py --server.port 80 &"
      ],
      "metadata": {
        "colab": {
          "base_uri": "https://localhost:8080/"
        },
        "id": "HKYe_U_Z7ksx",
        "outputId": "9acafbab-2e54-4931-8a96-98a7bddbc946"
      },
      "execution_count": null,
      "outputs": [
        {
          "output_type": "stream",
          "name": "stdout",
          "text": [
            "nohup: appending output to 'nohup.out'\n"
          ]
        }
      ]
    },
    {
      "cell_type": "code",
      "source": [
        "!git clone https://github.com/yastrebksv/TennisProject.git\n",
        "%cd TennisProject"
      ],
      "metadata": {
        "id": "_l9ebutsr8r_",
        "colab": {
          "base_uri": "https://localhost:8080/"
        },
        "outputId": "6517b867-f5c5-4fe6-b719-7105812fe0a8"
      },
      "execution_count": null,
      "outputs": [
        {
          "output_type": "stream",
          "name": "stdout",
          "text": [
            "Cloning into 'TennisProject'...\n",
            "remote: Enumerating objects: 45, done.\u001b[K\n",
            "remote: Counting objects: 100% (15/15), done.\u001b[K\n",
            "remote: Compressing objects: 100% (8/8), done.\u001b[K\n",
            "remote: Total 45 (delta 8), reused 7 (delta 7), pack-reused 30 (from 1)\u001b[K\n",
            "Receiving objects: 100% (45/45), 5.50 MiB | 9.07 MiB/s, done.\n",
            "Resolving deltas: 100% (17/17), done.\n",
            "/content/TennisProject\n"
          ]
        }
      ]
    },
    {
      "cell_type": "code",
      "source": [
        "import os\n",
        "os.chdir('/content')"
      ],
      "metadata": {
        "id": "KL8d1Lrc85ot"
      },
      "execution_count": null,
      "outputs": []
    },
    {
      "cell_type": "code",
      "source": [
        "url = ngrok.connect(addr=80)  # 80번 포트를 노출\n",
        "url"
      ],
      "metadata": {
        "colab": {
          "base_uri": "https://localhost:8080/"
        },
        "id": "k2wcOiwI7uum",
        "outputId": "d56f222b-decd-458d-9f4a-cc28e16a22fa"
      },
      "execution_count": null,
      "outputs": [
        {
          "output_type": "execute_result",
          "data": {
            "text/plain": [
              "<NgrokTunnel: \"https://d717-34-125-130-189.ngrok-free.app\" -> \"http://localhost:80\">"
            ]
          },
          "metadata": {},
          "execution_count": 12
        }
      ]
    },
    {
      "cell_type": "code",
      "source": [
        "ngrok.kill()"
      ],
      "metadata": {
        "id": "LwPe3UKD8EGV",
        "outputId": "684473ee-4ed9-427d-e8d3-fc6681068569",
        "colab": {
          "base_uri": "https://localhost:8080/",
          "height": 141
        }
      },
      "execution_count": null,
      "outputs": [
        {
          "output_type": "error",
          "ename": "NameError",
          "evalue": "name 'ngrok' is not defined",
          "traceback": [
            "\u001b[0;31m---------------------------------------------------------------------------\u001b[0m",
            "\u001b[0;31mNameError\u001b[0m                                 Traceback (most recent call last)",
            "\u001b[0;32m<ipython-input-1-582e608e03de>\u001b[0m in \u001b[0;36m<cell line: 0>\u001b[0;34m()\u001b[0m\n\u001b[0;32m----> 1\u001b[0;31m \u001b[0mngrok\u001b[0m\u001b[0;34m.\u001b[0m\u001b[0mkill\u001b[0m\u001b[0;34m(\u001b[0m\u001b[0;34m)\u001b[0m\u001b[0;34m\u001b[0m\u001b[0;34m\u001b[0m\u001b[0m\n\u001b[0m",
            "\u001b[0;31mNameError\u001b[0m: name 'ngrok' is not defined"
          ]
        }
      ]
    },
    {
      "cell_type": "code",
      "source": [],
      "metadata": {
        "id": "uyjpK2HP8ovP"
      },
      "execution_count": null,
      "outputs": []
    }
  ]
}